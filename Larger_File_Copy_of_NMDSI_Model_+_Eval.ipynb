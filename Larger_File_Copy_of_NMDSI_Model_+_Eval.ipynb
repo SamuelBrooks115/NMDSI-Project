{
  "cells": [
    {
      "cell_type": "markdown",
      "metadata": {
        "id": "view-in-github",
        "colab_type": "text"
      },
      "source": [
        "<a href=\"https://colab.research.google.com/github/SamuelBrooks115/NMDSI-Project/blob/main/Larger_File_Copy_of_NMDSI_Model_%2B_Eval.ipynb\" target=\"_parent\"><img src=\"https://colab.research.google.com/assets/colab-badge.svg\" alt=\"Open In Colab\"/></a>"
      ]
    },
    {
      "cell_type": "code",
      "execution_count": null,
      "metadata": {
        "colab": {
          "base_uri": "https://localhost:8080/"
        },
        "id": "IlYQftzAj_A6",
        "outputId": "6a55b07d-fe3e-4e3a-d813-e53d5abcd937"
      },
      "outputs": [
        {
          "output_type": "stream",
          "name": "stdout",
          "text": [
            "Mounted at /content/drive\n"
          ]
        }
      ],
      "source": [
        "# prompt: mount google drive\n",
        "\n",
        "from google.colab import drive\n",
        "drive.mount('/content/drive')\n"
      ]
    },
    {
      "cell_type": "code",
      "execution_count": null,
      "metadata": {
        "colab": {
          "base_uri": "https://localhost:8080/",
          "height": 863
        },
        "id": "jIsrW3O35hRg",
        "outputId": "f6ea4322-af4f-4afb-d135-878d19c839c0"
      },
      "outputs": [
        {
          "output_type": "stream",
          "name": "stderr",
          "text": [
            "Downloading...\n",
            "From (original): https://drive.google.com/uc?id=15JTBDkJz1chAF6G3gXoMBRY4sRzwDHyH\n",
            "From (redirected): https://drive.google.com/uc?id=15JTBDkJz1chAF6G3gXoMBRY4sRzwDHyH&confirm=t&uuid=298cdac0-7d6f-4d24-ae68-bb8d78a8b6f6\n",
            "To: /content/large_processed_dataset.csv\n",
            "100%|██████████| 3.13G/3.13G [00:18<00:00, 172MB/s]\n"
          ]
        },
        {
          "output_type": "stream",
          "name": "stdout",
          "text": [
            "          Timestamp  From Bank  Account  To Bank  Account.1  Amount Received  \\\n",
            "0  2022/09/01 00:17         20   708187       20     720029        -0.002478   \n",
            "1  2022/09/01 00:02       3196  1486008     3196    1362487        -0.002477   \n",
            "2  2022/09/01 00:17       1208   260368     1208     265188        -0.002480   \n",
            "3  2022/09/01 00:03       1208   260369       20     720036         0.026048   \n",
            "4  2022/09/01 00:02       1208   260369       20     720037         0.015211   \n",
            "\n",
            "   Receiving Currency  Amount Paid  Payment Currency  Payment Format  \\\n",
            "0                  12    -0.002386                12               5   \n",
            "1                  12    -0.002386                12               5   \n",
            "2                  12    -0.002389                12               5   \n",
            "3                  12     0.037629                12               3   \n",
            "4                  12     0.022426                12               3   \n",
            "\n",
            "   Is Laundering  \n",
            "0              0  \n",
            "1              0  \n",
            "2              0  \n",
            "3              0  \n",
            "4              0  \n"
          ]
        },
        {
          "output_type": "execute_result",
          "data": {
            "text/plain": [
              "Timestamp              object\n",
              "From Bank               int64\n",
              "Account                 int64\n",
              "To Bank                 int64\n",
              "Account.1               int64\n",
              "Amount Received       float64\n",
              "Receiving Currency      int64\n",
              "Amount Paid           float64\n",
              "Payment Currency        int64\n",
              "Payment Format          int64\n",
              "Is Laundering           int64\n",
              "dtype: object"
            ],
            "text/html": [
              "<div>\n",
              "<style scoped>\n",
              "    .dataframe tbody tr th:only-of-type {\n",
              "        vertical-align: middle;\n",
              "    }\n",
              "\n",
              "    .dataframe tbody tr th {\n",
              "        vertical-align: top;\n",
              "    }\n",
              "\n",
              "    .dataframe thead th {\n",
              "        text-align: right;\n",
              "    }\n",
              "</style>\n",
              "<table border=\"1\" class=\"dataframe\">\n",
              "  <thead>\n",
              "    <tr style=\"text-align: right;\">\n",
              "      <th></th>\n",
              "      <th>0</th>\n",
              "    </tr>\n",
              "  </thead>\n",
              "  <tbody>\n",
              "    <tr>\n",
              "      <th>Timestamp</th>\n",
              "      <td>object</td>\n",
              "    </tr>\n",
              "    <tr>\n",
              "      <th>From Bank</th>\n",
              "      <td>int64</td>\n",
              "    </tr>\n",
              "    <tr>\n",
              "      <th>Account</th>\n",
              "      <td>int64</td>\n",
              "    </tr>\n",
              "    <tr>\n",
              "      <th>To Bank</th>\n",
              "      <td>int64</td>\n",
              "    </tr>\n",
              "    <tr>\n",
              "      <th>Account.1</th>\n",
              "      <td>int64</td>\n",
              "    </tr>\n",
              "    <tr>\n",
              "      <th>Amount Received</th>\n",
              "      <td>float64</td>\n",
              "    </tr>\n",
              "    <tr>\n",
              "      <th>Receiving Currency</th>\n",
              "      <td>int64</td>\n",
              "    </tr>\n",
              "    <tr>\n",
              "      <th>Amount Paid</th>\n",
              "      <td>float64</td>\n",
              "    </tr>\n",
              "    <tr>\n",
              "      <th>Payment Currency</th>\n",
              "      <td>int64</td>\n",
              "    </tr>\n",
              "    <tr>\n",
              "      <th>Payment Format</th>\n",
              "      <td>int64</td>\n",
              "    </tr>\n",
              "    <tr>\n",
              "      <th>Is Laundering</th>\n",
              "      <td>int64</td>\n",
              "    </tr>\n",
              "  </tbody>\n",
              "</table>\n",
              "</div><br><label><b>dtype:</b> object</label>"
            ]
          },
          "metadata": {},
          "execution_count": 2
        }
      ],
      "source": [
        "import os\n",
        "import gdown\n",
        "import pandas as pd\n",
        "#Full File Address - https://drive.google.com/file/d/15JTBDkJz1chAF6G3gXoMBRY4sRzwDHyH/view?usp=sharing\n",
        "#file_id - 15JTBDkJz1chAF6G3gXoMBRY4sRzwDHyH\n",
        "\n",
        "\n",
        "def download_file():\n",
        "  # Download the saved preprocessed dataset\n",
        "  file_id = '15JTBDkJz1chAF6G3gXoMBRY4sRzwDHyH'  # File ID\n",
        "  destination = 'large_processed_dataset.csv'  # File Name\n",
        "\n",
        "  # Construct the download URL and download the file\n",
        "  download_url = f'https://drive.google.com/uc?id={file_id}'\n",
        "  gdown.download(download_url, destination, quiet=False)\n",
        "\n",
        "  #Load the dataset into a pandas DataFrame\n",
        "  import pandas as pd\n",
        "  dataset = pd.read_csv(destination)\n",
        "\n",
        "  return dataset\n",
        "\n",
        "file_name = 'large_processed_dataset.csv'\n",
        "\n",
        "download_file()\n",
        "pro_dataset = pd.read_csv(file_name)\n",
        "\n",
        "print(pro_dataset.head())\n",
        "\n",
        "\n",
        "df = pro_dataset\n",
        "df.dtypes\n",
        "\n"
      ]
    },
    {
      "cell_type": "code",
      "execution_count": null,
      "metadata": {
        "id": "JyBIXCHLGZx6"
      },
      "outputs": [],
      "source": [
        "import numpy as np\n",
        "import pandas as pd\n",
        "import torch\n",
        "from torch.utils.data import DataLoader, Dataset, random_split\n",
        "import torch.nn as nn\n",
        "import torch.optim as optim\n",
        "import matplotlib.pyplot as plt\n",
        "from imblearn.over_sampling import SMOTE\n",
        "from sklearn.metrics import precision_score, recall_score, f1_score, confusion_matrix\n",
        "\n"
      ]
    },
    {
      "cell_type": "code",
      "source": [
        "\n",
        "from imblearn.under_sampling import RandomUnderSampler\n",
        "\n",
        "X = df.drop(columns=['Timestamp', 'Is Laundering'])\n",
        "y = df['Is Laundering']\n",
        "\n",
        "# Instantiate the RandomUnderSampler\n",
        "rus = RandomUnderSampler(random_state=42)\n",
        "\n",
        "# Apply undersampling\n",
        "X_resampled, y_resampled = rus.fit_resample(X, y)\n",
        "\n",
        "# Combine the resampled features and labels back into a DataFrame\n",
        "df_resampled = pd.DataFrame(X_resampled, columns=X.columns)\n",
        "df_resampled['Is Laundering'] = y_resampled\n",
        "\n",
        "# Save the resampled DataFrame to CSV for later use or proceed directly to sequence generation\n",
        "df_resampled.to_csv('resampled_dataset.csv', index=False)\n",
        "\n",
        "print(\"Original class distribution:\", y.value_counts())\n",
        "print(\"Resampled class distribution:\", y_resampled.value_counts())\n"
      ],
      "metadata": {
        "colab": {
          "base_uri": "https://localhost:8080/"
        },
        "id": "1qy1PUdS9iEn",
        "outputId": "c4d86a41-344b-4235-9247-9df4f26a9e9e"
      },
      "execution_count": null,
      "outputs": [
        {
          "output_type": "stream",
          "name": "stdout",
          "text": [
            "Original class distribution: Is Laundering\n",
            "0    31863008\n",
            "1       35230\n",
            "Name: count, dtype: int64\n",
            "Resampled class distribution: Is Laundering\n",
            "0    35230\n",
            "1    35230\n",
            "Name: count, dtype: int64\n"
          ]
        }
      ]
    },
    {
      "cell_type": "code",
      "execution_count": null,
      "metadata": {
        "colab": {
          "base_uri": "https://localhost:8080/"
        },
        "id": "Qt3Wjxqk2eGu",
        "outputId": "65f716cd-9070-419b-abcd-48a9f929d17d"
      },
      "outputs": [
        {
          "output_type": "stream",
          "name": "stdout",
          "text": [
            "Processed batch 1/8\n",
            "Processed batch 2/8\n",
            "Processed batch 3/8\n",
            "Processed batch 4/8\n",
            "Processed batch 5/8\n",
            "Processed batch 6/8\n",
            "Processed batch 7/8\n",
            "Processed batch 8/8\n",
            "Sequences shape: (70451, 10, 9)\n",
            "Labels shape: (70451,)\n"
          ]
        }
      ],
      "source": [
        "import numpy as np\n",
        "import pandas as pd\n",
        "\n",
        "# Load the resampled dataset\n",
        "df_resampled = pd.read_csv('resampled_dataset.csv')\n",
        "\n",
        "# Create sequences for LSTM\n",
        "sequence_length = 10  # Define sequence length\n",
        "sequences = []\n",
        "labels = []\n",
        "\n",
        "batch_size = 10000  # Adjust batch size as needed\n",
        "num_batches = (len(df_resampled) - sequence_length + 1) // batch_size + 1\n",
        "batch_count = 0\n",
        "\n",
        "for start_idx in range(0, len(df_resampled) - sequence_length + 1, batch_size):\n",
        "    end_idx = min(start_idx + batch_size, len(df_resampled) - sequence_length + 1)\n",
        "    for i in range(start_idx, end_idx):\n",
        "        # Removed 'Timestamp' from drop as it's already not in df_resampled\n",
        "        sequences.append(df_resampled.iloc[i:i + sequence_length].drop(columns=['Is Laundering']).values)\n",
        "        labels.append(df_resampled['Is Laundering'].iloc[i + sequence_length - 1])\n",
        "\n",
        "    batch_count += 1\n",
        "    print(f\"Processed batch {batch_count}/{num_batches}\")\n",
        "\n",
        "sequences = np.array(sequences)\n",
        "labels = np.array(labels)\n",
        "\n",
        "print(\"Sequences shape:\", sequences.shape)\n",
        "print(\"Labels shape:\", labels.shape)\n",
        "\n",
        "# Save the sequences and labels as NumPy arrays to Google Drive\n",
        "np.save('/content/drive/My Drive/sequences_med.npy', sequences)\n",
        "np.save('/content/drive/My Drive/labels_med.npy', labels)\n",
        "\n"
      ]
    },
    {
      "cell_type": "code",
      "execution_count": null,
      "metadata": {
        "colab": {
          "base_uri": "https://localhost:8080/"
        },
        "id": "KDEIaBxgY5Nn",
        "outputId": "c8504746-a949-4ac2-dfbf-e9e04e4120e8"
      },
      "outputs": [
        {
          "output_type": "stream",
          "name": "stdout",
          "text": [
            "float64\n",
            "int64\n",
            "Sequences and labels saved to files.\n",
            "float32\n",
            "int8\n"
          ]
        }
      ],
      "source": [
        "print(sequences.dtype)\n",
        "print(labels.dtype)\n",
        "\n",
        "\n",
        "sequences = sequences.astype(np.float32)\n",
        "labels = labels.astype(np.int8)\n",
        "\n",
        "# Save the arrays\n",
        "np.save('/content/drive/My Drive/sequences_med.npy', sequences)\n",
        "np.save('/content/drive/My Drive/labels_med.npy', labels)\n",
        "\n",
        "print(\"Sequences and labels saved to files.\")\n",
        "\n",
        "print(sequences.dtype)\n",
        "print(labels.dtype)"
      ]
    },
    {
      "cell_type": "code",
      "execution_count": null,
      "metadata": {
        "colab": {
          "base_uri": "https://localhost:8080/"
        },
        "collapsed": true,
        "id": "w_stbmi8kZy_",
        "outputId": "710114da-8dfd-4eda-df26-72d83a78abaf"
      },
      "outputs": [
        {
          "output_type": "stream",
          "name": "stderr",
          "text": [
            "Downloading...\n",
            "From: https://drive.google.com/uc?id=1-6H_nMXgNUgpfn1GQVUU4lut5FY8siLS\n",
            "To: /content/sequences_med.npy\n",
            "100%|██████████| 25.4M/25.4M [00:00<00:00, 31.1MB/s]\n",
            "Downloading...\n",
            "From: https://drive.google.com/uc?id=1-AZL0rRoMG323EclTLLuK0g3fOgVC-14\n",
            "To: /content/labels_med.npy\n",
            "100%|██████████| 70.6k/70.6k [00:00<00:00, 55.3MB/s]"
          ]
        },
        {
          "output_type": "stream",
          "name": "stdout",
          "text": [
            "(70451, 10, 9)\n",
            "[0 0 0 ... 1 1 1]\n",
            "float32\n",
            "int8\n"
          ]
        },
        {
          "output_type": "stream",
          "name": "stderr",
          "text": [
            "\n"
          ]
        }
      ],
      "source": [
        "import gdown\n",
        "import numpy as np\n",
        "\n",
        "def download_seq():\n",
        "  #https://drive.google.com/file/d/1-6H_nMXgNUgpfn1GQVUU4lut5FY8siLS/view?usp=sharing\n",
        "  #1-6H_nMXgNUgpfn1GQVUU4lut5FY8siLS\n",
        "\n",
        "  # Download the  preprocessed dataset\n",
        "  file_id = '1-6H_nMXgNUgpfn1GQVUU4lut5FY8siLS'  # File ID\n",
        "  destination = 'sequences_med.npy'  # File Name\n",
        "\n",
        "\n",
        "  # Construct the download URL and download the file\n",
        "  download_url = f'https://drive.google.com/uc?id={file_id}'\n",
        "  gdown.download(download_url, destination, quiet=False)\n",
        "\n",
        "  #Load the dataset into a numpy array\n",
        "  sequences = np.load(destination)\n",
        "\n",
        "  return sequences\n",
        "\n",
        "def download_label():\n",
        "  #https://drive.google.com/file/d/1-AZL0rRoMG323EclTLLuK0g3fOgVC-14/view?usp=sharing\n",
        "  #1-AZL0rRoMG323EclTLLuK0g3fOgVC-14\n",
        "\n",
        "\n",
        "  # Download the  preprocessed dataset\n",
        "  file_id = '1-AZL0rRoMG323EclTLLuK0g3fOgVC-14'  # File ID\n",
        "  destination = 'labels_med.npy'  # File Name\n",
        "\n",
        "\n",
        "  # Construct the download URL and download the file\n",
        "  download_url = f'https://drive.google.com/uc?id={file_id}'\n",
        "  gdown.download(download_url, destination, quiet=False)\n",
        "\n",
        "  #Load the dataset into a numpy array\n",
        "  import numpy as np\n",
        "  labels = np.load(destination)\n",
        "\n",
        "  return labels\n",
        "\n",
        "\n",
        "sequences = download_seq()\n",
        "labels = download_label()\n",
        "\n",
        "sequences = np.array(sequences)\n",
        "labels = np.array(labels)\n",
        "\n",
        "print(sequences.shape)\n",
        "print(labels)\n",
        "print (sequences.dtype)\n",
        "print (labels.dtype)"
      ]
    },
    {
      "cell_type": "code",
      "execution_count": null,
      "metadata": {
        "id": "_S3I-pA0Ixrh"
      },
      "outputs": [],
      "source": [
        "class LSTMModel(nn.Module):\n",
        "    def __init__(self, input_dim, hidden_dim, num_layers, output_dim,dropout_prob = 0.5):\n",
        "        super(LSTMModel, self).__init__()\n",
        "        self.lstm = nn.LSTM(input_dim, hidden_dim, num_layers, batch_first=True)\n",
        "        self.fc = nn.Linear(hidden_dim, output_dim)\n",
        "        self.dropout = nn.Dropout(dropout_prob) #Tweak as needed\n",
        "\n",
        "        self.device = torch.device(\"cuda\" if torch.cuda.is_available() else \"cpu\")\n",
        "\n",
        "    def forward(self, x):\n",
        "        h0 = torch.zeros(num_layers, x.size(0), hidden_dim).to(x.device)\n",
        "        c0 = torch.zeros(num_layers, x.size(0), hidden_dim).to(x.device)\n",
        "\n",
        "        out, _ = self.lstm(x, (h0, c0))\n",
        "        out = self.dropout(out[:, -1, :])  # Take the output of the last time step -> Apply Dropout\n",
        "        out = self.fc(out)\n",
        "        return torch.sigmoid(out)\n",
        "\n",
        "class TransactionDataset(Dataset):\n",
        "    def __init__(self, sequences, labels):\n",
        "        self.sequences = sequences\n",
        "        self.labels = labels\n",
        "\n",
        "    def __len__(self):\n",
        "        return len(self.sequences)\n",
        "\n",
        "    def __getitem__(self, idx):\n",
        "        return torch.tensor(self.sequences[idx], dtype=torch.float32), torch.tensor(self.labels[idx], dtype=torch.float32)\n"
      ]
    },
    {
      "cell_type": "code",
      "execution_count": null,
      "metadata": {
        "id": "0txIU29UJac0"
      },
      "outputs": [],
      "source": [
        "# Create Dataset and DataLoader\n",
        "dataset = TransactionDataset(sequences, labels)\n",
        "\n",
        "train_size = int(0.8 * len(dataset))\n",
        "test_size = len(dataset) - train_size\n",
        "train_dataset, test_dataset = random_split(dataset, [train_size, test_size])\n",
        "\n",
        "train_loader = DataLoader(train_dataset, batch_size=128, shuffle=True)\n",
        "test_loader = DataLoader(test_dataset, batch_size=128, shuffle=False)"
      ]
    },
    {
      "cell_type": "code",
      "execution_count": null,
      "metadata": {
        "colab": {
          "base_uri": "https://localhost:8080/",
          "height": 559
        },
        "id": "MVAFMuHkJSck",
        "outputId": "2486046f-ac72-4050-fe12-3ab62fa0466b"
      },
      "outputs": [
        {
          "output_type": "stream",
          "name": "stdout",
          "text": [
            "Epoch 10/50, Average Loss: 0.5969\n",
            "Epoch 20/50, Average Loss: 0.5929\n",
            "Epoch 30/50, Average Loss: 0.5898\n",
            "Epoch 40/50, Average Loss: 0.5874\n",
            "Epoch 50/50, Average Loss: 0.5890\n"
          ]
        },
        {
          "output_type": "display_data",
          "data": {
            "text/plain": [
              "<Figure size 640x480 with 1 Axes>"
            ],
            "image/png": "[encoded data removed]"
          },
          "metadata": {}
        }
      ],
      "source": [
        "# Define model parameters\n",
        "input_dim = sequences.shape[2]\n",
        "hidden_dim = 128\n",
        "num_layers = 3\n",
        "output_dim = 1\n",
        "dropout_prob = 0.5\n",
        "\n",
        "# Instantiate the model\n",
        "model = LSTMModel(input_dim, hidden_dim, num_layers, output_dim,dropout_prob)\n",
        "model.to(model.device)\n",
        "\n",
        "# Define loss function and optimizer\n",
        "criterion = nn.BCEWithLogitsLoss()  # Binary Cross-Entropy loss with logits\n",
        "optimizer = optim.Adam(model.parameters(), lr=0.0001, weight_decay = 1e-4)\n",
        "\n",
        "# Apply weight initialization\n",
        "def weights_init(m):\n",
        "    if isinstance(m, nn.Linear) or isinstance(m, nn.Conv2d):\n",
        "        nn.init.xavier_uniform_(m.weight)\n",
        "        if m.bias is not None:\n",
        "            nn.init.constant_(m.bias, 0)\n",
        "\n",
        "model.apply(weights_init)\n",
        "\n",
        "# Training loop\n",
        "def train(model, train_loader, criterion, optimizer, num_epochs=50):\n",
        "    model.train()\n",
        "    loss_history = []\n",
        "    for epoch in range(num_epochs):\n",
        "        total_loss = 0\n",
        "        for sequences, labels in train_loader:\n",
        "            sequences, labels = sequences.to(model.device), labels.to(model.device).unsqueeze(1)\n",
        "            optimizer.zero_grad()\n",
        "            output = model(sequences)\n",
        "\n",
        "            loss = criterion(output, labels)\n",
        "            loss.backward()\n",
        "\n",
        "            # Gradient clipping\n",
        "            nn.utils.clip_grad_norm_(model.parameters(), max_norm=1.0)\n",
        "\n",
        "            optimizer.step()\n",
        "            total_loss += loss.item()\n",
        "\n",
        "        avg_loss = total_loss / len(train_loader)\n",
        "        loss_history.append(avg_loss)\n",
        "        if (epoch + 1) % 10 == 0 or epoch == num_epochs - 1:\n",
        "          print(f\"Epoch {epoch+1}/{num_epochs}, Average Loss: {avg_loss:.4f}\")\n",
        "\n",
        "\n",
        "    plt.plot(loss_history)\n",
        "    plt.xlabel('Epoch')\n",
        "    plt.ylabel('Loss')\n",
        "    plt.title('Training Loss Over Time')\n",
        "    plt.show()\n",
        "\n",
        "\n",
        "# Train the model\n",
        "train(model, train_loader, criterion, optimizer)\n"
      ]
    },
    {
      "cell_type": "code",
      "execution_count": null,
      "metadata": {
        "colab": {
          "base_uri": "https://localhost:8080/"
        },
        "id": "X4hMdNVgU7M7",
        "outputId": "3730657c-f590-4b44-8780-b6c101f9cd56"
      },
      "outputs": [
        {
          "output_type": "stream",
          "name": "stdout",
          "text": [
            "Evaluation Loss: 0.5911, Accuracy: 0.8092\n",
            "Precision: 0.8594, Recall: 0.7356, F1 Score: 0.7927\n",
            "\n",
            "Confusion Matrix:\n",
            "                 Predicted Positive  Predicted Negative\n",
            "Actual Positive                6260                 841\n",
            "Actual Negative                1848                5142\n"
          ]
        }
      ],
      "source": [
        "# Evaluation function\n",
        "def evaluate(model, data_loader, criterion):\n",
        "    model.eval()\n",
        "    total_loss = 0\n",
        "    correct_predictions = 0\n",
        "    total_predictions = 0\n",
        "    all_labels = []\n",
        "    all_predictions = []\n",
        "\n",
        "    with torch.no_grad():\n",
        "        for sequences, labels in data_loader:\n",
        "            sequences, labels = sequences.to(model.device), labels.to(model.device).unsqueeze(1).float()\n",
        "            output = model(sequences)\n",
        "            loss = criterion(output, labels)\n",
        "            total_loss += loss.item()\n",
        "\n",
        "            predicted = (output > 0.3).float()  #Tweaked from 0.5 to minimize false negatives\n",
        "            correct_predictions += (predicted == labels).sum().item()\n",
        "            total_predictions += labels.size(0)\n",
        "\n",
        "            all_labels.extend(labels.cpu().numpy())\n",
        "            all_predictions.extend(predicted.cpu().numpy())\n",
        "\n",
        "    accuracy = correct_predictions / total_predictions\n",
        "    precision = precision_score(all_labels, all_predictions)\n",
        "    recall = recall_score(all_labels, all_predictions)\n",
        "    f1 = f1_score(all_labels, all_predictions)\n",
        "    cm = confusion_matrix(all_labels, all_predictions)\n",
        "\n",
        "    return total_loss / len(data_loader), accuracy, precision, recall, f1, cm\n",
        "\n",
        "# Evaluate the model\n",
        "eval_loss, eval_accuracy, eval_precision, eval_recall, eval_f1, eval_cm = evaluate(model, test_loader, criterion)\n",
        "\n",
        "# Print performance metrics\n",
        "print(f\"Evaluation Loss: {eval_loss:.4f}, Accuracy: {eval_accuracy:.4f}\")\n",
        "print(f\"Precision: {eval_precision:.4f}, Recall: {eval_recall:.4f}, F1 Score: {eval_f1:.4f}\")\n",
        "\n",
        "# Print confusion matrix as a table\n",
        "confusion_matrix_df = pd.DataFrame(eval_cm,\n",
        "                                   index=['Actual Positive', 'Actual Negative'],\n",
        "                                   columns=['Predicted Positive', 'Predicted Negative'])\n",
        "print(\"\\nConfusion Matrix:\")\n",
        "print(confusion_matrix_df)\n"
      ]
    },
    {
      "cell_type": "code",
      "source": [
        "model_save_name = 'NMDSI_Model.pt'\n",
        "path = f\"/content/drive/My Drive/{model_save_name}\"\n",
        "torch.save(model.state_dict(), path)"
      ],
      "metadata": {
        "id": "wG4-etnufcJF"
      },
      "execution_count": null,
      "outputs": []
    },
    {
      "cell_type": "code",
      "source": [
        "model_save_name = 'classifier.pt'\n",
        "path = F\"/content/drive/My Drive/{model_save_name}\"\n",
        "model.load_state_dict(torch.load(path))"
      ],
      "metadata": {
        "colab": {
          "base_uri": "https://localhost:8080/"
        },
        "id": "qh3V9J4OgkD1",
        "outputId": "043208d6-0f67-4ca2-873c-023218b9e0d9"
      },
      "execution_count": null,
      "outputs": [
        {
          "output_type": "execute_result",
          "data": {
            "text/plain": [
              "<All keys matched successfully>"
            ]
          },
          "metadata": {},
          "execution_count": 17
        }
      ]
    }
  ],
  "metadata": {
    "accelerator": "GPU",
    "colab": {
      "gpuType": "T4",
      "machine_shape": "hm",
      "provenance": [],
      "authorship_tag": "ABX9TyMfxREA53bkZJwFSpa7Ol5D",
      "include_colab_link": true
    },
    "kernelspec": {
      "display_name": "Python 3",
      "name": "python3"
    },
    "language_info": {
      "name": "python"
    }
  },
  "nbformat": 4,
  "nbformat_minor": 0
}